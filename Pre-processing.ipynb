{
 "cells": [
  {
   "cell_type": "markdown",
   "metadata": {},
   "source": [
    "# __Diffusion MRI data pre-processing notebook__\n",
    "#### __Last updated on:__ 27/02/2020\n",
    "#### __Author:__ Rakshit Dadarwal"
   ]
  },
  {
   "cell_type": "markdown",
   "metadata": {},
   "source": [
    "### __Requirements:__\n",
    "#### 1. DIPY (https://dipy.org/)\n",
    "#### 2. nipype (https://nipype.readthedocs.io/en/latest/)\n",
    "#### 3. FSL (https://fsl.fmrib.ox.ac.uk/fsl/fslwiki)"
   ]
  },
  {
   "cell_type": "markdown",
   "metadata": {},
   "source": [
    "### __This script includes:__\n",
    "#### 1. Denoising\n",
    "#### 2. TOPUP: Susceptibility-induced distortion correction  \n",
    "#### 3. EDDY: eddy current-induced distortion and motion correction"
   ]
  },
  {
   "cell_type": "markdown",
   "metadata": {},
   "source": [
    "### __Import python libraries__"
   ]
  },
  {
   "cell_type": "code",
   "execution_count": null,
   "metadata": {},
   "outputs": [],
   "source": [
    "import os\n",
    "import numpy as np\n",
    "import nibabel as nib\n",
    "import timeit; timeit.timeit()\n",
    "# DIPY Local PCA Denoising\n",
    "from dipy.denoise.localpca import mppca \n",
    "# Nipype fsl interfce\n",
    "import nipype.interfaces.fsl as fsl"
   ]
  },
  {
   "cell_type": "markdown",
   "metadata": {},
   "source": [
    "### __Define DWI data path__"
   ]
  },
  {
   "cell_type": "code",
   "execution_count": null,
   "metadata": {},
   "outputs": [],
   "source": [
    "#--------------------------------------------\n",
    "#        DWI data files \n",
    "#--------------------------------------------\n",
    "data_path = \"/home/User/Diffusion\"\n",
    "dwi_file = 'dMRI.nii.gz' # 4D diffusion data file name\n",
    "dwi_rev_file = 'dMRI_rev.nii.gz' # dwi acquisition with reverse phase encoding\n",
    "bvals_file = 'dMRI.bvals' # bval file name\n",
    "bvecs_file = 'dMRI.bvecs' # bvec file name\n",
    "denoised_file = 'dwi_denoised.nii.gz' # denoised output file name "
   ]
  },
  {
   "cell_type": "markdown",
   "metadata": {},
   "source": [
    "### __Denoising__"
   ]
  },
  {
   "cell_type": "code",
   "execution_count": null,
   "metadata": {},
   "outputs": [],
   "source": [
    "# Change directory\n",
    "cwdir = os.getcwd()\n",
    "os.chdir(data_path)\n",
    "        \n",
    "#------------------------------------------------\n",
    "#         DIPY MP-PCA denoising\n",
    "#------------------------------------------------\n",
    "img = nib.load(os.path.join(data_path,dwi_file))\n",
    "data = img.get_data()    \n",
    "            \n",
    "denoised = mppca(data, patch_radius=2)\n",
    "        \n",
    "nib.save(nib.Nifti1Image(denoised, img.affine), os.path.join(data_path,denoised_file))\n",
    "\n",
    "print('Elapsed time:',timeit.timeit())"
   ]
  },
  {
   "cell_type": "markdown",
   "metadata": {},
   "source": [
    "### __TOPUP__\n",
    "* Susceptibility-induced distortion correction"
   ]
  },
  {
   "cell_type": "code",
   "execution_count": null,
   "metadata": {},
   "outputs": [],
   "source": [
    "#------------------------------------------------\n",
    "#             Extract b0 image\n",
    "#------------------------------------------------\n",
    "def extract_b0(inImage, outImage):\n",
    "    fslroi = fsl.ExtractROI(in_file=inImage,\n",
    "                            roi_file=outImage, t_min=0, t_size=1)\n",
    "    fslroi.run()\n",
    "# extract AP b0\n",
    "extract_b0(dwi_file, 'epi_b0.nii.gz')\n",
    "# extract PA b0\n",
    "extract_b0(dwi_rev_file, 'epi_rev_b0.nii.gz')\n",
    "\n",
    "#------------------------------------------------\n",
    "#             FSL TOPUP \n",
    "#------------------------------------------------\n",
    "# data prep for topup\n",
    "merger = fsl.Merge(in_files=['epi_b0.nii.gz','epi_rev_b0.nii.gz'],\n",
    "                   dimension = 't', output_type='NIFTI_GZ')\n",
    "merger.run()\n",
    "        \n",
    "file = open('topup_encoding.txt','w')\n",
    "file.write('0 1 0 0.05\\n0 -1 0 0.05')\n",
    "file.close()\n",
    "        \n",
    "topup = fsl.TOPUP(in_file = 'epi_b0_merged.nii.gz',\n",
    "                  encoding_file = 'topup_encoding.txt',\n",
    "                  output_type = \"NIFTI_GZ\")\n",
    "topup.run()\n",
    "        \n",
    "#------------------------------------------------\n",
    "#            FSL ApplyTOPUP \n",
    "#------------------------------------------------\n",
    "applytopup = fsl.ApplyTOPUP(in_files = ['epi_b0.nii.gz', 'epi_rev_b0.nii.gz'],\n",
    "                            encoding_file = 'topup_encoding.txt',\n",
    "                            in_topup_fieldcoef = \"epi_b0_merged_base_fieldcoef.nii.gz\",\n",
    "                            in_topup_movpar = 'epi_b0_merged_base_movpar.txt',\n",
    "                            output_type = \"NIFTI_GZ\") \n",
    "applytopup.run()\n",
    "        \n",
    "print('Elapsed time:',timeit.timeit())"
   ]
  },
  {
   "cell_type": "markdown",
   "metadata": {},
   "source": [
    "### __EDDY__\n",
    "* eddy current-induced distortion and motion correction"
   ]
  },
  {
   "cell_type": "code",
   "execution_count": null,
   "metadata": {},
   "outputs": [],
   "source": [
    "#------------------------------------------------\n",
    "#            FSL Eddy\n",
    "#------------------------------------------------\n",
    "# data prep for eddy\n",
    "btr = fsl.BET(in_file='epi_b0_corrected.nii.gz',\n",
    "              frac=0.5, out_file='brain.nii.gz', mask=True)\n",
    "btr.run()\n",
    "\n",
    "# total nuber of volumes in dwi data\n",
    "img = nib.load(denoised_file).get_data()\n",
    "nvolumes = img.shape[-1]\n",
    "\n",
    "file = open('index.txt','w')\n",
    "for i in range(0, nvolumes):\n",
    "    file.write('1 ')\n",
    "file.close()\n",
    "            \n",
    "eddy = fsl.Eddy(in_file = denoised_file,\n",
    "                in_mask  = 'brain_mask.nii.gz',\n",
    "                in_index = 'index.txt',\n",
    "                in_acqp  = 'topup_encoding.txt',\n",
    "                in_topup_fieldcoef = \"epi_b0_merged_base_fieldcoef.nii.gz\",\n",
    "                in_topup_movpar = 'epi_b0_merged_base_movpar.txt',\n",
    "                in_bvec  = bvecs_file,\n",
    "                in_bval  = bvals_file, use_cuda = False, \n",
    "                is_shelled=True)\n",
    "eddy.run()\n",
    "        \n",
    "print('Elapsed time:',timeit.timeit())\n",
    "print('Enjoy!!')"
   ]
  },
  {
   "cell_type": "code",
   "execution_count": null,
   "metadata": {},
   "outputs": [],
   "source": []
  }
 ],
 "metadata": {
  "kernelspec": {
   "display_name": "Python 3",
   "language": "python",
   "name": "python3"
  },
  "language_info": {
   "codemirror_mode": {
    "name": "ipython",
    "version": 3
   },
   "file_extension": ".py",
   "mimetype": "text/x-python",
   "name": "python",
   "nbconvert_exporter": "python",
   "pygments_lexer": "ipython3",
   "version": "3.7.3"
  }
 },
 "nbformat": 4,
 "nbformat_minor": 2
}
