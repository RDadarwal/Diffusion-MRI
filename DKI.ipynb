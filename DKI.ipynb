{
 "cells": [
  {
   "cell_type": "markdown",
   "metadata": {},
   "source": [
    "# __Diffusion Kurtosis Imaging (DKI) analysis notebook__\n",
    "#### __Last updated on:__ 27/02/2020\n",
    "#### __Author:__ Rakshit Dadarwal"
   ]
  },
  {
   "cell_type": "markdown",
   "metadata": {},
   "source": [
    "### __Requirements:__\n",
    "#### 1. Multi-shell DWI dataset (minimum two bvalues)\n",
    "#### 2. DIPY (https://dipy.org/)"
   ]
  },
  {
   "cell_type": "markdown",
   "metadata": {},
   "source": [
    "### __This script includes:__\n",
    "#### 1. DKI parametric maps estimation"
   ]
  },
  {
   "cell_type": "markdown",
   "metadata": {},
   "source": [
    "### __Import python libraries__"
   ]
  },
  {
   "cell_type": "code",
   "execution_count": null,
   "metadata": {},
   "outputs": [],
   "source": [
    "import os\n",
    "import nibabel as nib\n",
    "import timeit; timeit.timeit()\n",
    "\n",
    "from dipy.io import read_bvals_bvecs\n",
    "from dipy.core.gradients import gradient_table\n",
    "from dipy.reconst.dti import TensorModel\n",
    "import dipy.reconst.dki as dki"
   ]
  },
  {
   "cell_type": "markdown",
   "metadata": {},
   "source": [
    "### __Define DWI data path__"
   ]
  },
  {
   "cell_type": "code",
   "execution_count": null,
   "metadata": {},
   "outputs": [],
   "source": [
    "#--------------------------------------------------\n",
    "# Pre-processed DWI data and brain mask\n",
    "#--------------------------------------------------\n",
    "data_path = \"/home/User/Diffusion\"\n",
    "dwi_file = 'eddy_corrected.nii.gz'\n",
    "brainmask_file = 'brainmask.nii.gz'\n",
    "bval = 'dMRI.bvals'\n",
    "bvec = 'eddy_corrected.eddy_rotated_bvecs'"
   ]
  },
  {
   "cell_type": "markdown",
   "metadata": {},
   "source": [
    "### __Post-processing__"
   ]
  },
  {
   "cell_type": "code",
   "execution_count": null,
   "metadata": {},
   "outputs": [],
   "source": [
    "# Change directory\n",
    "os.chdir(data_path)\n",
    "\n",
    "#--------------------------------------------------\n",
    "# load DWI data files\n",
    "#--------------------------------------------------\n",
    "img1 = nib.load(os.path.join(data_path,dwi_file))\n",
    "data = img1.get_data()\n",
    "\n",
    "img2 = nib.load(os.path.join(data_path,brainmask_file))\n",
    "brainmask = img2.get_data()\n",
    "\n",
    "bvals, bvecs = read_bvals_bvecs(os.path.join(bval),\n",
    "                                os.path.join(data_path,bvec))\n",
    "gtab = gradient_table(bvals, bvecs)\n",
    "\n",
    "#--------------------------------------------------------------\n",
    "#               Fit diffusion kurtosis model \n",
    "#--------------------------------------------------------------\n",
    "print('Fitting diffuison kurtosis model')\n",
    "dkimodel = dki.DiffusionKurtosisModel(gtab)\n",
    "dkifit = dkimodel.fit(data, brainmask)\n",
    "        \n",
    "#--------------------------------------------------------------\n",
    "#               Save DKI parametric maps\n",
    "#--------------------------------------------------------------\n",
    "if not os.path.exists(data_path+'/DKI/'):\n",
    "    os.mkdir(data_path+'/DKI')\n",
    "data_path_saveImage = data_path+'/DKI/'\n",
    "        \n",
    "FA = dkifit.fa\n",
    "MD = dkifit.md\n",
    "RD = dkifit.rd\n",
    "AD = dkifit.ad\n",
    "\n",
    "MK = dkifit.mk(0, 3)\n",
    "AK = dkifit.ak(0, 3)\n",
    "RK = dkifit.rk(0, 3)\n",
    "        \n",
    "nib.save(nib.Nifti1Image(FA, img1.affine), os.path.join(data_path_saveImage,'dki_FA.nii.gz'))\n",
    "nib.save(nib.Nifti1Image(MD, img1.affine), os.path.join(data_path_saveImage,'dki_MD.nii.gz'))\n",
    "nib.save(nib.Nifti1Image(RD, img1.affine), os.path.join(data_path_saveImage,'dki_RD.nii.gz'))\n",
    "nib.save(nib.Nifti1Image(AD, img1.affine), os.path.join(data_path_saveImage,'dki_AD.nii.gz'))\n",
    "        \n",
    "nib.save(nib.Nifti1Image(AK, img1.affine), os.path.join(data_path_saveImage,'AK.nii.gz'))\n",
    "nib.save(nib.Nifti1Image(RK, img1.affine), os.path.join(data_path_saveImage,'RK.nii.gz'))\n",
    "nib.save(nib.Nifti1Image(MK, img1.affine), os.path.join(data_path_saveImage,'MK.nii.gz'))\n",
    "        \n",
    "print('Elapsed time:',timeit.timeit())\n",
    "print('Enjoy!!')"
   ]
  },
  {
   "cell_type": "markdown",
   "metadata": {},
   "source": [
    "### __Plot output maps__"
   ]
  },
  {
   "cell_type": "code",
   "execution_count": null,
   "metadata": {},
   "outputs": [],
   "source": [
    "import matplotlib.pyplot as plt\n",
    "%matplotlib inline\n",
    "\n",
    "# set plot background\n",
    "plt.style.use('dark_background')\n",
    "\n",
    "# plot paramter maps          \n",
    "fig, ([ax0, ax1, ax2],[ax3, ax4, ax5]) = plt.subplots(2,3,figsize=(10,8),subplot_kw={'xticks': [], 'yticks': []})\n",
    "ax0.imshow(AD[:,:,20]); ax0.set_title('Axial diffusivity',fontweight='bold',size=10)\n",
    "ax1.imshow(RD[:,:,20]); ax1.set_title('Radial diffusivity',fontweight='bold',size=10)\n",
    "ax2.imshow(MD[:,:,20]); ax2.set_title('Mean diffusivity',fontweight='bold',size=10)\n",
    "ax3.imshow(AK[:,:,20]); ax3.set_title('Axial kurtosis',fontweight='bold',size=10)\n",
    "ax4.imshow(RK[:,:,20]); ax4.set_title('Radial kurtosis',fontweight='bold',size=10)\n",
    "ax5.imshow(MK[:,:,20]); ax5.set_title('Mean kurtosis',fontweight='bold',size=10)"
   ]
  }
 ],
 "metadata": {
  "anaconda-cloud": {},
  "kernelspec": {
   "display_name": "Python 3",
   "language": "python",
   "name": "python3"
  },
  "language_info": {
   "codemirror_mode": {
    "name": "ipython",
    "version": 3
   },
   "file_extension": ".py",
   "mimetype": "text/x-python",
   "name": "python",
   "nbconvert_exporter": "python",
   "pygments_lexer": "ipython3",
   "version": "3.7.3"
  }
 },
 "nbformat": 4,
 "nbformat_minor": 2
}
