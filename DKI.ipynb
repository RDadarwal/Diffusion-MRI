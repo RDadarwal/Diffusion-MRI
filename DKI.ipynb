{
 "cells": [
  {
   "cell_type": "markdown",
   "metadata": {},
   "source": [
    "# __Diffusion Kurtosis Imaging (DKI) analysis notebook__\n",
    "#### __Last updated on:__ 27/02/2020\n",
    "#### __Author:__ Rakshit Dadarwal"
   ]
  },
  {
   "cell_type": "markdown",
   "metadata": {},
   "source": [
    "### __Requirements:__\n",
    "#### 1. Multi-shell DWI dataset (minimum two bvalues)\n",
    "#### 2. DIPY (https://dipy.org/)"
   ]
  },
  {
   "cell_type": "markdown",
   "metadata": {},
   "source": [
    "### __This script includes:__\n",
    "#### 1. DKI parametric maps estimation"
   ]
  },
  {
   "cell_type": "code",
   "execution_count": null,
   "metadata": {},
   "outputs": [],
   "source": [
    "# import important libraries \n",
    "import os\n",
    "import nibabel as nib\n",
    "import timeit; timeit.timeit()\n",
    "\n",
    "from dipy.io import read_bvals_bvecs\n",
    "from dipy.core.gradients import gradient_table\n",
    "from dipy.reconst.dti import TensorModel\n",
    "\n",
    "#--------------------------------------------------\n",
    "# Load pre-processed DWI data and brain mask \n",
    "#--------------------------------------------------\n",
    "data_path = \"/home/User/Diffusion\"\n",
    "dwi_file = 'eddy_corrected.nii.gz'\n",
    "brainmask_file = 'brain_mask.nii.gz'\n",
    "bval = 'dMRI.bvals'\n",
    "bvec = 'eddy_corrected.eddy_rotated_bvecs'\n",
    "\n",
    "if os.path.exists(os.path.join(data_path,dwi_file)):\n",
    "        \n",
    "    img1 = nib.load(os.path.join(data_path,dwi_file))\n",
    "    data = img1.get_data()\n",
    "\n",
    "    img2 = nib.load(os.path.join(data_path,brainmask_file))\n",
    "    brainmask = img2.get_data()\n",
    "\n",
    "    bvals, bvecs = read_bvals_bvecs(os.path.join(bval),\n",
    "                                    os.path.join(data_path,bvec))\n",
    "    gtab = gradient_table(bvals, bvecs)\n",
    "\n",
    "    #--------------------------------------------------------------\n",
    "    #               Fit diffusion kurtosis model \n",
    "    #--------------------------------------------------------------\n",
    "    print('Fitting diffuison kurtosis model')\n",
    "    import dipy.reconst.dki as dki\n",
    "    dkimodel = dki.DiffusionKurtosisModel(gtab)\n",
    "    dkifit = dkimodel.fit(data, brainmask)\n",
    "        \n",
    "    #--------------------------------------------------------------\n",
    "    #               Save DKI parametric maps\n",
    "    #--------------------------------------------------------------\n",
    "    if not os.path.exists(data_path+'/DKI/'):\n",
    "        os.mkdir(data_path+'/DKI')\n",
    "    data_path_saveImage = data_path+'/DKI/'\n",
    "        \n",
    "    FA = dkifit.fa\n",
    "    MD = dkifit.md\n",
    "    RD = dkifit.rd\n",
    "    AD = dkifit.ad\n",
    "\n",
    "    MK = dkifit.mk(0, 3)\n",
    "    AK = dkifit.ak(0, 3)\n",
    "    RK = dkifit.rk(0, 3)\n",
    "        \n",
    "    nib.save(nib.Nifti1Image(FA, img1.affine), os.path.join(data_path_saveImage,'dki_FA.nii.gz'))\n",
    "    nib.save(nib.Nifti1Image(MD, img1.affine), os.path.join(data_path_saveImage,'dki_MD.nii.gz'))\n",
    "    nib.save(nib.Nifti1Image(RD, img1.affine), os.path.join(data_path_saveImage,'dki_RD.nii.gz'))\n",
    "    nib.save(nib.Nifti1Image(AD, img1.affine), os.path.join(data_path_saveImage,'dki_AD.nii.gz'))\n",
    "        \n",
    "    nib.save(nib.Nifti1Image(AK, img1.affine), os.path.join(data_path_saveImage,'AK.nii.gz'))\n",
    "    nib.save(nib.Nifti1Image(RK, img1.affine), os.path.join(data_path_saveImage,'RK.nii.gz'))\n",
    "    nib.save(nib.Nifti1Image(MK, img1.affine), os.path.join(data_path_saveImage,'MK.nii.gz'))\n",
    "        \n",
    "    print('Elapsed time:',timeit.timeit())\n",
    "    print('Enjoy!!')"
   ]
  },
  {
   "cell_type": "code",
   "execution_count": null,
   "metadata": {
    "collapsed": true
   },
   "outputs": [],
   "source": []
  }
 ],
 "metadata": {
  "anaconda-cloud": {},
  "kernelspec": {
   "display_name": "Python 3",
   "language": "python",
   "name": "python3"
  },
  "language_info": {
   "codemirror_mode": {
    "name": "ipython",
    "version": 3
   },
   "file_extension": ".py",
   "mimetype": "text/x-python",
   "name": "python",
   "nbconvert_exporter": "python",
   "pygments_lexer": "ipython3",
   "version": "3.7.3"
  }
 },
 "nbformat": 4,
 "nbformat_minor": 2
}
