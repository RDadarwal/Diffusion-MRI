{
 "cells": [
  {
   "cell_type": "markdown",
   "metadata": {},
   "source": [
    "# __Multi-Shell Multi-Tissue CSD (MSMT-CSD) modelling analysis notebook__\n",
    "#### __Last updated on:__ 27/02/2020\n",
    "#### __Author:__ Rakshit Dadarwal"
   ]
  },
  {
   "cell_type": "markdown",
   "metadata": {},
   "source": [
    "### __Requirements:__\n",
    "#### 1. A bash kernel for IPython (https://github.com/takluyver/bash_kernel)\n",
    "#### 2. Multi-Shell DWI dataset (atleast two bvalues)\n",
    "#### 3. MRtrix3 (https://github.com/MRtrix3/mrtrix3)"
   ]
  },
  {
   "cell_type": "markdown",
   "metadata": {},
   "source": [
    "### __This script includes:__\n",
    "#### 1. Preprocessing and multi-tissue CSD modelling"
   ]
  },
  {
   "cell_type": "code",
   "execution_count": null,
   "metadata": {},
   "outputs": [],
   "source": [
    "#--------------------------------------------------\n",
    "# Load pre-processed DWI data and brain mask \n",
    "#--------------------------------------------------\n",
    "data_path=/home/User/Diffusion\n",
    "dwi_file=eddy_corrected.nii.gz\n",
    "brainmask_file=brainmask.nii.gz\n",
    "bval=dMRI.bvals\n",
    "bvec=eddy_corrected.eddy_rotated_bvecs\n",
    "\n",
    "#-------------------------------------------------------------------------------------------\n",
    "# Convert pre-processed DWI data and brain mask from NIfTI into mif (MRtrix Image Format) \n",
    "#-------------------------------------------------------------------------------------------\n",
    "data_path=/home/User/Diffusion\n",
    "mrconvert $data_path/$dwi_file $data_path/dwi.mif -fslgrad $data_path/$bvec $data_path/$bval\n",
    "\n",
    "# Brain mask\n",
    "mrconvert $data_path/$brainmask_file $data_path/dwi_mask.mif\n",
    "\n",
    "# Bias field correction\n",
    "dwibiascorrect ants $data_path/dwi.mif $data_path/dwi_unbiased.mif\n",
    "\n",
    "# tissue response function estimation\n",
    "dwi2response dhollander $data_path/dwi_unbiased.mif $data_path/response_wm.txt $data_path/response_gm.txt $data_path/response_csf.txt\n",
    "\n",
    "# Fibre Orientation Distribution estimation (multi-tissue CSD modelling)\n",
    "dwi2fod msmt_csd $data_path/dwi_unbiased.mif $data_path/response_wm.txt $data_path/wmfod.mif $data_path/response_gm.txt \\\n",
    "$data_path/gm.mif $data_path/response_csf.txt $data_path/csf.mif -mask $data_path/dwi_mask.mif\n",
    "\n",
    "# multi-tissue joint bias field and intensity normalization\n",
    "mtnormalise wmfod.mif wmfod_norm.mif gm.mif gm_norm.mif csf.mif csf_norm.mif -mask dwi_mask.mif"
   ]
  },
  {
   "cell_type": "markdown",
   "metadata": {},
   "source": [
    "### __Visualisation__"
   ]
  },
  {
   "cell_type": "code",
   "execution_count": null,
   "metadata": {},
   "outputs": [],
   "source": [
    "# Compute an FOD-based DEC map from your WM FOD image\n",
    "fod2dec $data_path/wmfod_norm.mif $data_path/decfod.mif -mask $data_path/dwi_mask.mif\n",
    "# Overlay the WM FIDs on the FOD-based DEC map\n",
    "mrview $data_path/decfod.mif -odf.load_sh $data_path/wmfod_norm.mif"
   ]
  },
  {
   "cell_type": "markdown",
   "metadata": {},
   "source": [
    "### __Tractography__"
   ]
  },
  {
   "cell_type": "code",
   "execution_count": null,
   "metadata": {},
   "outputs": [],
   "source": [
    "# Whole-brain tractography\n",
    "tckgen data_path/wmfod_norm.mif $data_path/tracks.tck -seed_image $data_path/dwi_mask.mif -select 100000 -cutoff 0.07\n",
    "# Visualize resulting tractogram\n",
    "mrview $data_path/decfod.mif -tractography.load $data_path/tracks.tck -tractography.lighting true"
   ]
  }
 ],
 "metadata": {
  "kernelspec": {
   "display_name": "Bash",
   "language": "bash",
   "name": "bash"
  },
  "language_info": {
   "codemirror_mode": "shell",
   "file_extension": ".sh",
   "mimetype": "text/x-sh",
   "name": "bash"
  }
 },
 "nbformat": 4,
 "nbformat_minor": 2
}
