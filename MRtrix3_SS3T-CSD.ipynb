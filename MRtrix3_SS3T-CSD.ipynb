{
 "cells": [
  {
   "cell_type": "markdown",
   "metadata": {},
   "source": [
    "# __Single-Shell 3-Tissue CSD (SS3T-CSD) modelling analysis notebook__\n",
    "#### __Last updated on:__ 27/02/2020\n",
    "#### __Author:__ Rakshit Dadarwal"
   ]
  },
  {
   "cell_type": "markdown",
   "metadata": {},
   "source": [
    "### __Requirements:__\n",
    "#### 1. A bash kernel for IPython (https://github.com/takluyver/bash_kernel)\n",
    "#### 2. Single-shell DWI dataset (single bvalue)\n",
    "#### 3. MRtrix3 (https://github.com/MRtrix3/mrtrix3)\n",
    "#### 4. MRtrix3Tissue (https://3tissue.github.io/)"
   ]
  },
  {
   "cell_type": "markdown",
   "metadata": {},
   "source": [
    "### __This script includes:__\n",
    "#### 1. Preprocessing and 3-tissue CSD modelling"
   ]
  },
  {
   "cell_type": "markdown",
   "metadata": {},
   "source": [
    "### __Define DWI data path__"
   ]
  },
  {
   "cell_type": "code",
   "execution_count": null,
   "metadata": {},
   "outputs": [],
   "source": [
    "#--------------------------------------------------\n",
    "# Pre-processed DWI data and brain mask \n",
    "#--------------------------------------------------\n",
    "data_path=/home/User/Diffusion\n",
    "dwi_file=eddy_corrected.nii.gz\n",
    "brainmask_file=brainmask.nii.gz\n",
    "bval=dMRI.bvals\n",
    "bvec=eddy_corrected.eddy_rotated_bvecs"
   ]
  },
  {
   "cell_type": "markdown",
   "metadata": {},
   "source": [
    "### __Pre-processing__"
   ]
  },
  {
   "cell_type": "code",
   "execution_count": null,
   "metadata": {},
   "outputs": [],
   "source": [
    "# Convert DWI data from NIfTI into mif (MRtrix Image Format) \n",
    "mrconvert $data_path/$dwi_file $data_path/dwi.mif -fslgrad $data_path/$bvec $data_path/$bval\n",
    "\n",
    "# Brain mask\n",
    "mrconvert $data_path/$brainmask_file $data_path/dwi_mask.mif\n",
    "\n",
    "# Bias field correction\n",
    "dwibiascorrect ants $data_path/dwi.mif $data_path/dwi_unbiased.mif"
   ]
  },
  {
   "cell_type": "markdown",
   "metadata": {},
   "source": [
    "### __Post-processing__"
   ]
  },
  {
   "cell_type": "code",
   "execution_count": null,
   "metadata": {},
   "outputs": [],
   "source": [
    "# 3-tissue response function estimation\n",
    "dwi2response dhollander $data_path/dwi_unbiased.mif $data_path/response_wm.txt $data_path/response_gm.txt $data_path/response_csf.txt\n",
    "\n",
    "# Fibre Orientation Distribution estimation (3-tissue CSD modelling)\n",
    "ss3t_csd_beta1 $data_path/dwi_unbiased.mif $data_path/response_wm.txt $data_path/wmfod.mif $data_path/response_gm.txt \\\n",
    "$data_path/gm.mif $data_path/response_csf.txt $data_path/csf.mif -mask $data_path/dwi_mask.mif\n",
    "\n",
    "# 3-tissue bias field and intensity normalization\n",
    "mtnormalise wmfod.mif wmfod_norm.mif gm.mif gm_norm.mif csf.mif csf_norm.mif -mask dwi_mask.mif"
   ]
  },
  {
   "cell_type": "markdown",
   "metadata": {},
   "source": [
    "### __Visualisation__"
   ]
  },
  {
   "cell_type": "code",
   "execution_count": null,
   "metadata": {},
   "outputs": [],
   "source": [
    "# Compute an FOD-based DEC map from your WM FOD image\n",
    "fod2dec $data_path/wmfod_norm.mif $data_path/decfod.mif -mask $data_path/dwi_mask.mif\n",
    "# Overlay the WM FIDs on the FOD-based DEC map\n",
    "mrview $data_path/decfod.mif -odf.load_sh $data_path/wmfod_norm.mif"
   ]
  },
  {
   "cell_type": "markdown",
   "metadata": {},
   "source": [
    "### __Tractography__"
   ]
  },
  {
   "cell_type": "code",
   "execution_count": null,
   "metadata": {},
   "outputs": [],
   "source": [
    "# Whole-brain tractography\n",
    "tckgen data_path/wmfod_norm.mif $data_path/tracks.tck -seed_image $data_path/dwi_mask.mif -select 100000 -cutoff 0.07\n",
    "# Visualize resulting tractogram\n",
    "mrview $data_path/decfod.mif -tractography.load $data_path/tracks.tck -tractography.lighting true"
   ]
  }
 ],
 "metadata": {
  "kernelspec": {
   "display_name": "Bash",
   "language": "bash",
   "name": "bash"
  },
  "language_info": {
   "codemirror_mode": "shell",
   "file_extension": ".sh",
   "mimetype": "text/x-sh",
   "name": "bash"
  }
 },
 "nbformat": 4,
 "nbformat_minor": 2
}
