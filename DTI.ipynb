{
 "cells": [
  {
   "cell_type": "markdown",
   "metadata": {},
   "source": [
    "# __Diffusion Tensor Imaging (DTI) analysis notebook__\n",
    "#### __Last updated on:__ 27/02/2020\n",
    "#### __Author:__ Rakshit Dadarwal"
   ]
  },
  {
   "cell_type": "markdown",
   "metadata": {},
   "source": [
    "### __Requirements:__\n",
    "#### 1. Single or multi-shell DWI data\n",
    "#### 2. DIPY (https://dipy.org/)"
   ]
  },
  {
   "cell_type": "markdown",
   "metadata": {},
   "source": [
    "### __This script includes:__\n",
    "#### 1. DTI parametric maps estimation\n",
    "#### 2. Compute color-coded or RGB Fractional Anisotropy (FA) map "
   ]
  },
  {
   "cell_type": "markdown",
   "metadata": {},
   "source": [
    "### __Import python libraries__ "
   ]
  },
  {
   "cell_type": "code",
   "execution_count": null,
   "metadata": {},
   "outputs": [],
   "source": [
    "import os\n",
    "import nibabel as nib\n",
    "import timeit; timeit.timeit()\n",
    "\n",
    "from dipy.io import read_bvals_bvecs\n",
    "from dipy.core.gradients import gradient_table\n",
    "from dipy.reconst.dti import TensorModel\n",
    "from dipy.reconst.dti import fractional_anisotropy\n",
    "from dipy.reconst.dti import color_fa"
   ]
  },
  {
   "cell_type": "markdown",
   "metadata": {},
   "source": [
    "### __Define DWI data path__"
   ]
  },
  {
   "cell_type": "code",
   "execution_count": null,
   "metadata": {},
   "outputs": [],
   "source": [
    "#--------------------------------------------------\n",
    "# Pre-processed DWI data and brain mask\n",
    "#--------------------------------------------------\n",
    "data_path = \"/home/User/Diffusion\"\n",
    "dwi_file = 'eddy_corrected.nii.gz'\n",
    "brainmask_file = 'brainmask.nii.gz'\n",
    "bval = 'dMRI.bvals'\n",
    "bvec = 'eddy_corrected.eddy_rotated_bvecs'"
   ]
  },
  {
   "cell_type": "markdown",
   "metadata": {},
   "source": [
    "### __Post-processing__"
   ]
  },
  {
   "cell_type": "code",
   "execution_count": null,
   "metadata": {},
   "outputs": [],
   "source": [
    "#--------------------------------------------------\n",
    "# load DWI data files\n",
    "#--------------------------------------------------\n",
    "img1 = nib.load(os.path.join(data_path,dwi_file))\n",
    "data = img1.get_data()\n",
    "\n",
    "img2 = nib.load(os.path.join(data_path,brainmask_file))\n",
    "brainmask = img2.get_data()\n",
    "\n",
    "bvals, bvecs = read_bvals_bvecs(os.path.join(bval),\n",
    "                                os.path.join(data_path,bvec))\n",
    "gtab = gradient_table(bvals, bvecs)\n",
    "\n",
    "#--------------------------------------------------------------\n",
    "#               Fit diffusion tensor model\n",
    "#--------------------------------------------------------------\n",
    "print('Fitting diffuison tensor model')\n",
    "\n",
    "ten_model = TensorModel(gtab)\n",
    "ten_fit = ten_model.fit(data, brainmask)\n",
    "        \n",
    "#--------------------------------------------------------------\n",
    "#               Save DTI parametric maps\n",
    "#--------------------------------------------------------------\n",
    "if not os.path.exists(data_path+'/DTI/'):\n",
    "    os.mkdir(data_path+'/DTI')\n",
    "output_path = data_path+'/DTI/'\n",
    "        \n",
    "FA = ten_fit.fa\n",
    "AD = ten_fit.ad\n",
    "RD = ten_fit.rd\n",
    "MD = ten_fit.md\n",
    "        \n",
    "nib.save(nib.Nifti1Image(FA, img1.affine), os.path.join(output_path,'FA.nii.gz'))\n",
    "nib.save(nib.Nifti1Image(MD, img1.affine), os.path.join(output_path,'MD.nii.gz'))\n",
    "nib.save(nib.Nifti1Image(RD, img1.affine), os.path.join(output_path,'RD.nii.gz'))\n",
    "nib.save(nib.Nifti1Image(AD, img1.affine), os.path.join(output_path,'AD.nii.gz'))\n",
    "    \n",
    "#--------------------------------------------------------------\n",
    "#               Save FA RGB map\n",
    "#--------------------------------------------------------------\n",
    "fa = fractional_anisotropy(ten_fit.evals)\n",
    "cfa = color_fa(fa, ten_fit.evecs)\n",
    "FA = np.clip(fa, 0, 1)\n",
    "RGB = color_fa(fa, ten_fit.evecs)\n",
    "\n",
    "nib.save(nib.Nifti1Image(np.array(255 * cfa, 'uint8'), img1.affine), os.path.join(output_path,'FA_RGB.nii.gz'))\n",
    "\n",
    "print('Elapsed time:',timeit.timeit())\n",
    "print('Enjoy!!')"
   ]
  },
  {
   "cell_type": "code",
   "execution_count": null,
   "metadata": {},
   "outputs": [],
   "source": []
  }
 ],
 "metadata": {
  "anaconda-cloud": {},
  "kernelspec": {
   "display_name": "Python 3",
   "language": "python",
   "name": "python3"
  },
  "language_info": {
   "codemirror_mode": {
    "name": "ipython",
    "version": 3
   },
   "file_extension": ".py",
   "mimetype": "text/x-python",
   "name": "python",
   "nbconvert_exporter": "python",
   "pygments_lexer": "ipython3",
   "version": "3.7.3"
  }
 },
 "nbformat": 4,
 "nbformat_minor": 2
}
