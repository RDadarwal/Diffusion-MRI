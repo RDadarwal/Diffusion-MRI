{
 "cells": [
  {
   "cell_type": "markdown",
   "metadata": {},
   "source": [
    "# __Neurite Orientation Dispersion and Density Imaging (NODDI) analysis notebook__\n",
    "#### __Last updated on:__ 19/11/2019\n",
    "#### __Author:__ Rakshit Dadarwal"
   ]
  },
  {
   "cell_type": "markdown",
   "metadata": {},
   "source": [
    "### __Requirements:__\n",
    "#### 1. Multi-shell DWI dataset (minimum two bvalues)\n",
    "#### 2. DIPY (https://dipy.org/)\n",
    "#### 2. AMICO (https://github.com/daducci/AMICO)"
   ]
  },
  {
   "cell_type": "markdown",
   "metadata": {},
   "source": [
    "### __This script includes:__\n",
    "#### 1. NODDI parametric maps estimation"
   ]
  },
  {
   "cell_type": "code",
   "execution_count": null,
   "metadata": {},
   "outputs": [],
   "source": [
    "import os\n",
    "import numpy as np\n",
    "import nibabel as nib\n",
    "\n",
    "import amico\n",
    "amico.core.setup()\n",
    "\n",
    "#--------------------------------------------------------------\n",
    "#        Load pre-processed DWI data and brain mask \n",
    "#--------------------------------------------------------------\n",
    "data_path = \"/home/User/Diffusion\"\n",
    "file1 = 'eddy_corrected.nii.gz'\n",
    "path1 = os.path.join(data_path,file1)\n",
    "\n",
    "if os.path.exists(path1):\n",
    "        \n",
    "    print('Reading pre-processed diffusion data')\n",
    "\n",
    "    fbval = data_path+'/dMRI.bvals'\n",
    "    fbvec = data_path+'/eddy_corrected.eddy_rotated_bvecs'\n",
    "    from dipy.io import read_bvals_bvecs\n",
    "    bvals, bvecs = read_bvals_bvecs(fbval,fbvec)\n",
    "        \n",
    "    from dipy.core.gradients import gradient_table\n",
    "    gtab = gradient_table(bvals, bvecs)\n",
    "\n",
    "    #--------------------------------------------------------------\n",
    "    #               Fit NODDI model \n",
    "    #--------------------------------------------------------------\n",
    "\n",
    "    amico.util.fsl2scheme(fbval,fbvec)\n",
    "    \n",
    "    if not os.path.exists(data_path+'/NODDI/'):\n",
    "        os.mkdir(data_path+'/NODDI')\n",
    "    output_path = data_path+'/NODDI/'\n",
    "    \n",
    "    ae = amico.Evaluation(data_path, data_path, output_path=output_path)\n",
    "      \n",
    "    ae.load_data(dwi_filename = \"eddy_corrected.nii.gz\", scheme_filename = \"dMRI.scheme\", mask_filename='brain_mask.nii.gz', b0_thr = 0)\n",
    "      \n",
    "    ae.set_model(\"NODDI\")\n",
    "    ae.generate_kernels()\n",
    "     \n",
    "    ae.load_kernels()\n",
    "       \n",
    "    ae.fit()\n",
    "    ae.save_results()\n",
    "        \n",
    "    print('Processing completed')\n",
    "    print('Enjoy!!')\n",
    "else:\n",
    "    print('Diffusion data does not exist !!!')"
   ]
  },
  {
   "cell_type": "code",
   "execution_count": null,
   "metadata": {},
   "outputs": [],
   "source": []
  }
 ],
 "metadata": {
  "anaconda-cloud": {},
  "kernelspec": {
   "display_name": "Python 2",
   "language": "python",
   "name": "python2"
  },
  "language_info": {
   "codemirror_mode": {
    "name": "ipython",
    "version": 2
   },
   "file_extension": ".py",
   "mimetype": "text/x-python",
   "name": "python",
   "nbconvert_exporter": "python",
   "pygments_lexer": "ipython2",
   "version": "2.7.16"
  }
 },
 "nbformat": 4,
 "nbformat_minor": 2
}
