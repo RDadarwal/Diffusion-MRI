{
 "cells": [
  {
   "cell_type": "markdown",
   "metadata": {},
   "source": [
    "# __Diffusion Tensor Imaging (DTI) analysis notebook__\n",
    "#### __Last updated on:__ 19/11/2019\n",
    "#### __Author:__ Rakshit Dadarwal"
   ]
  },
  {
   "cell_type": "markdown",
   "metadata": {},
   "source": [
    "### __Requirements:__\n",
    "#### 1. Single or multi-shell DWI data\n",
    "#### 2. DIPY (https://dipy.org/)"
   ]
  },
  {
   "cell_type": "markdown",
   "metadata": {},
   "source": [
    "### __This script includes:__\n",
    "#### 1. DTI parametric maps estimation\n",
    "#### 2. Compute color-coded or RGB Fractional Anisotropy (FA) map "
   ]
  },
  {
   "cell_type": "code",
   "execution_count": 3,
   "metadata": {},
   "outputs": [
    {
     "name": "stdout",
     "output_type": "stream",
     "text": [
      "Reading pre-processed diffusion data\n",
      "Fitting diffuison tensor model\n",
      "Processing completed\n",
      "Enjoy!!\n"
     ]
    }
   ],
   "source": [
    "import os\n",
    "import numpy as np\n",
    "import nibabel as nib\n",
    "import matplotlib.pyplot as plt\n",
    "%matplotlib inline\n",
    "\n",
    "\n",
    "#--------------------------------------------------------------\n",
    "#        Load pre-processed DWI data and brain mask \n",
    "#--------------------------------------------------------------\n",
    "data_path = \"/home/User/Diffusion\"\n",
    "file1 = 'eddy_corrected.nii.gz'\n",
    "path1 = os.path.join(data_path,file1)\n",
    "\n",
    "if os.path.exists(path1):\n",
    "        \n",
    "    print('Reading pre-processed diffusion data')\n",
    "    img1 = nib.load(path1)\n",
    "    data = img1.get_data()\n",
    "\n",
    "    file2 = 'brain_mask.nii.gz'\n",
    "    path2 = os.path.join(data_path, file2)\n",
    "    img2 = nib.load(path2)\n",
    "    mask = img2.get_data()\n",
    "\n",
    "    fbval = data_path+'/dMRI.bvals'\n",
    "    fbvec = data_path+'/eddy_corrected.eddy_rotated_bvecs'\n",
    "    from dipy.io import read_bvals_bvecs\n",
    "    bvals, bvecs = read_bvals_bvecs(fbval,fbvec)\n",
    "        \n",
    "    from dipy.core.gradients import gradient_table\n",
    "    gtab = gradient_table(bvals, bvecs)\n",
    "\n",
    "    #--------------------------------------------------------------\n",
    "    #               Fit diffusion tensor model\n",
    "    #--------------------------------------------------------------\n",
    "    print('Fitting diffuison tensor model')\n",
    "    from dipy.reconst.dti import TensorModel\n",
    "    ten_model = TensorModel(gtab)\n",
    "\n",
    "    ten_fit = ten_model.fit(data, mask)\n",
    "        \n",
    "    #--------------------------------------------------------------\n",
    "    #               Save DTI parametric maps\n",
    "    #--------------------------------------------------------------\n",
    "    if not os.path.exists(data_path+'/DTI/'):\n",
    "        os.mkdir(data_path+'/DTI')\n",
    "    output_path = data_path+'/DTI/'\n",
    "        \n",
    "    FA = ten_fit.fa\n",
    "    AD = ten_fit.ad\n",
    "    RD = ten_fit.rd\n",
    "    MD = ten_fit.md\n",
    "        \n",
    "    nib.save(nib.Nifti1Image(FA, img1.affine), os.path.join(output_path,'FA.nii.gz'))\n",
    "    nib.save(nib.Nifti1Image(MD, img1.affine), os.path.join(output_path,'MD.nii.gz'))\n",
    "    nib.save(nib.Nifti1Image(RD, img1.affine), os.path.join(output_path,'RD.nii.gz'))\n",
    "    nib.save(nib.Nifti1Image(AD, img1.affine), os.path.join(output_path,'AD.nii.gz'))\n",
    "    \n",
    "    #--------------------------------------------------------------\n",
    "    #               Save FA RGB map\n",
    "    #--------------------------------------------------------------\n",
    "    from dipy.reconst.dti import fractional_anisotropy\n",
    "    fa = fractional_anisotropy(ten_fit.evals)\n",
    "    from dipy.reconst.dti import color_fa\n",
    "    cfa = color_fa(fa, ten_fit.evecs)\n",
    "    FA = np.clip(fa, 0, 1)\n",
    "    RGB = color_fa(fa, ten_fit.evecs)\n",
    "\n",
    "    nib.save(nib.Nifti1Image(np.array(255 * cfa, 'uint8'), img1.affine), os.path.join(output_path,'FA_RGB.nii.gz'))\n",
    "\n",
    "    print('Processing completed')\n",
    "    print('Enjoy!!')"
   ]
  },
  {
   "cell_type": "code",
   "execution_count": null,
   "metadata": {},
   "outputs": [],
   "source": []
  }
 ],
 "metadata": {
  "anaconda-cloud": {},
  "kernelspec": {
   "display_name": "Python 3",
   "language": "python",
   "name": "python3"
  },
  "language_info": {
   "codemirror_mode": {
    "name": "ipython",
    "version": 3
   },
   "file_extension": ".py",
   "mimetype": "text/x-python",
   "name": "python",
   "nbconvert_exporter": "python",
   "pygments_lexer": "ipython3",
   "version": "3.7.3"
  }
 },
 "nbformat": 4,
 "nbformat_minor": 2
}
