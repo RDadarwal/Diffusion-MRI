{
 "cells": [
  {
   "cell_type": "markdown",
   "metadata": {},
   "source": [
    "# __Diffusion Kurtosis Imaging (DKI) analysis notebook__\n",
    "#### __Last updated on:__ 19/11/2019\n",
    "#### __Author:__ Rakshit Dadarwal"
   ]
  },
  {
   "cell_type": "markdown",
   "metadata": {},
   "source": [
    "### __Requirements:__\n",
    "#### 1. Multi-shell DWI dataset (minimum two bvalues)\n",
    "#### 2. DIPY (https://dipy.org/)"
   ]
  },
  {
   "cell_type": "markdown",
   "metadata": {},
   "source": [
    "### __This script includes:__\n",
    "#### 1. DKI parametric maps estimation"
   ]
  },
  {
   "cell_type": "code",
   "execution_count": 3,
   "metadata": {},
   "outputs": [
    {
     "name": "stdout",
     "output_type": "stream",
     "text": [
      "Reading pre-processed diffusion data\n",
      "Fitting diffuison kurtosis model\n",
      "Processing completed\n",
      "Enjoy!!\n"
     ]
    }
   ],
   "source": [
    "import os\n",
    "import numpy as np\n",
    "import nibabel as nib\n",
    "import matplotlib.pyplot as plt\n",
    "%matplotlib inline\n",
    "\n",
    "\n",
    "#--------------------------------------------------------------\n",
    "#        Load pre-processed DWI data and brain mask \n",
    "#--------------------------------------------------------------\n",
    "data_path = \"/home/User/Diffusion\"\n",
    "file1 = 'eddy_corrected.nii.gz'\n",
    "path1 = os.path.join(data_path,file1)\n",
    "\n",
    "if os.path.exists(path1):\n",
    "        \n",
    "    print('Reading pre-processed diffusion data')\n",
    "    img1 = nib.load(path1)\n",
    "    data = img1.get_data()\n",
    "\n",
    "    file2 = 'brain_mask.nii.gz'\n",
    "    path2 = os.path.join(data_path, file2)\n",
    "    img2 = nib.load(path2)\n",
    "    mask = img2.get_data()\n",
    "\n",
    "    fbval = data_path+'/dMRI.bvals'\n",
    "    fbvec = data_path+'/eddy_corrected.eddy_rotated_bvecs'\n",
    "    from dipy.io import read_bvals_bvecs\n",
    "    bvals, bvecs = read_bvals_bvecs(fbval,fbvec)\n",
    "        \n",
    "    from dipy.core.gradients import gradient_table\n",
    "    gtab = gradient_table(bvals, bvecs)\n",
    "\n",
    "    #--------------------------------------------------------------\n",
    "    #               Fit diffusion kurtosis model \n",
    "    #--------------------------------------------------------------\n",
    "    print('Fitting diffuison kurtosis model')\n",
    "    import dipy.reconst.dki as dki\n",
    "    dkimodel = dki.DiffusionKurtosisModel(gtab)\n",
    "    dkifit = dkimodel.fit(data, mask)\n",
    "        \n",
    "    #--------------------------------------------------------------\n",
    "    #               Save DKI parametric maps\n",
    "    #--------------------------------------------------------------\n",
    "    if not os.path.exists(data_path+'/DKI/'):\n",
    "        os.mkdir(data_path+'/DKI')\n",
    "    data_path_saveImage = data_path+'/DKI/'\n",
    "        \n",
    "    FA = dkifit.fa\n",
    "    MD = dkifit.md\n",
    "    RD = dkifit.rd\n",
    "    AD = dkifit.ad\n",
    "\n",
    "    MK = dkifit.mk(0, 3)\n",
    "    AK = dkifit.ak(0, 3)\n",
    "    RK = dkifit.rk(0, 3)\n",
    "        \n",
    "    nib.save(nib.Nifti1Image(FA, img1.affine), os.path.join(data_path_saveImage,'dki_FA.nii.gz'))\n",
    "    nib.save(nib.Nifti1Image(MD, img1.affine), os.path.join(data_path_saveImage,'dki_MD.nii.gz'))\n",
    "    nib.save(nib.Nifti1Image(RD, img1.affine), os.path.join(data_path_saveImage,'dki_RD.nii.gz'))\n",
    "    nib.save(nib.Nifti1Image(AD, img1.affine), os.path.join(data_path_saveImage,'dki_AD.nii.gz'))\n",
    "        \n",
    "    nib.save(nib.Nifti1Image(AK, img1.affine), os.path.join(data_path_saveImage,'AK.nii.gz'))\n",
    "    nib.save(nib.Nifti1Image(RK, img1.affine), os.path.join(data_path_saveImage,'RK.nii.gz'))\n",
    "    nib.save(nib.Nifti1Image(MK, img1.affine), os.path.join(data_path_saveImage,'MK.nii.gz'))\n",
    "        \n",
    "    print('Processing completed')\n",
    "    print('Enjoy!!')"
   ]
  },
  {
   "cell_type": "code",
   "execution_count": null,
   "metadata": {
    "collapsed": true
   },
   "outputs": [],
   "source": []
  }
 ],
 "metadata": {
  "anaconda-cloud": {},
  "kernelspec": {
   "display_name": "Python 3",
   "language": "python",
   "name": "python3"
  },
  "language_info": {
   "codemirror_mode": {
    "name": "ipython",
    "version": 3
   },
   "file_extension": ".py",
   "mimetype": "text/x-python",
   "name": "python",
   "nbconvert_exporter": "python",
   "pygments_lexer": "ipython3",
   "version": "3.7.3"
  }
 },
 "nbformat": 4,
 "nbformat_minor": 2
}
