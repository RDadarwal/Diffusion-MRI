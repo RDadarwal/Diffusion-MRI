{
 "cells": [
  {
   "cell_type": "markdown",
   "metadata": {},
   "source": [
    "# __Neurite Orientation Dispersion and Density Imaging (NODDI) analysis notebook__\n",
    "#### __Last updated on:__ 27/02/2020\n",
    "#### __Author:__ Rakshit Dadarwal"
   ]
  },
  {
   "cell_type": "markdown",
   "metadata": {},
   "source": [
    "### __Requirements:__\n",
    "#### 1. Multi-shell DWI dataset (minimum two bvalues)\n",
    "#### 2. DIPY (https://dipy.org/)\n",
    "#### 2. AMICO (https://github.com/daducci/AMICO)"
   ]
  },
  {
   "cell_type": "markdown",
   "metadata": {},
   "source": [
    "### __This script includes:__\n",
    "#### 1. NODDI parametric maps estimation"
   ]
  },
  {
   "cell_type": "code",
   "execution_count": null,
   "metadata": {},
   "outputs": [],
   "source": [
    "# Import important libraries\n",
    "import os\n",
    "import nibabel as nib\n",
    "import timeit; timeit.timeit()\n",
    "\n",
    "import amico\n",
    "amico.core.setup()\n",
    "\n",
    "#--------------------------------------------------\n",
    "# Load pre-processed DWI data and brain mask \n",
    "#--------------------------------------------------\n",
    "data_path = \"/home/User/Diffusion\"\n",
    "dwi_file = 'eddy_corrected.nii.gz'\n",
    "brainmask_file = 'brainmask.nii.gz'\n",
    "bval = data_path+'/dMRI.bvals'\n",
    "bvec = data_path+'/eddy_corrected.eddy_rotated_bvecs'\n",
    "\n",
    "#----------------------------------------------------------------\n",
    "# Diffusion scheme file name could be different for each user \n",
    "# Please check \"ae.load_data()\" line and rename \"dMRI.scheme\"\n",
    "#----------------------------------------------------------------\n",
    "\n",
    "if os.path.exists(os.path.join(data_path,dwi_file)):\n",
    "        \n",
    "    #------------------------------------------------\n",
    "    #               Fit NODDI model \n",
    "    #------------------------------------------------\n",
    "\n",
    "    amico.util.fsl2scheme(bval,bvec)\n",
    "    \n",
    "    if not os.path.exists(data_path+'/NODDI/'):\n",
    "        os.mkdir(data_path+'/NODDI')\n",
    "    output_path = data_path+'/NODDI/'\n",
    "    \n",
    "    ae = amico.Evaluation(data_path, data_path, output_path=output_path)\n",
    "      \n",
    "    ae.load_data(dwi_filename = dwi_file, scheme_filename = \"dMRI.scheme\", mask_filename=brainmask_file, b0_thr = 0)\n",
    "      \n",
    "    ae.set_model(\"NODDI\")\n",
    "    ae.generate_kernels()\n",
    "     \n",
    "    ae.load_kernels()\n",
    "       \n",
    "    ae.fit()\n",
    "    ae.save_results()\n",
    "        \n",
    "    print('Elapsed time:',timeit.timeit())\n",
    "    print('Enjoy!!')\n",
    "else:\n",
    "    print('Diffusion data does not exist !!')"
   ]
  },
  {
   "cell_type": "code",
   "execution_count": null,
   "metadata": {},
   "outputs": [],
   "source": []
  }
 ],
 "metadata": {
  "anaconda-cloud": {},
  "kernelspec": {
   "display_name": "Python 2",
   "language": "python",
   "name": "python2"
  },
  "language_info": {
   "codemirror_mode": {
    "name": "ipython",
    "version": 2
   },
   "file_extension": ".py",
   "mimetype": "text/x-python",
   "name": "python",
   "nbconvert_exporter": "python",
   "pygments_lexer": "ipython2",
   "version": "2.7.16"
  }
 },
 "nbformat": 4,
 "nbformat_minor": 2
}
